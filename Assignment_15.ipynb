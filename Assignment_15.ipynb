{
 "cells": [
  {
   "cell_type": "markdown",
   "metadata": {},
   "source": [
    "# Support Vector Machine\n",
    "Support Vector Machine is a supervised algorithm that involves new feature creation, via kernel functions on x, in a computationally feasible way. The creation of new features allows training points to be cast into a higher dimensional space where the label groups are more readily separable.Support Vectors are simply the co-ordinates of individual observation. Support Vector Machine is a frontier which best segregates the two classes (hyper-plane/ line).\n",
    "Support vector machine classifier is one of the most popular machine learning classification algorithm. Svm classifier mostly used in addressing multi-classification problems.we were going to implement the svm classifier with different kernels like 'Linear', 'Poly' , 'Sigmoid' , 'Gaussain'.\n"
   ]
  },
  {
   "cell_type": "markdown",
   "metadata": {},
   "source": [
    "## MNIST DATASET\n",
    "To implement svm classifier in Python, we are going to use the one of most popular classification dataset which is MNIST dataset.we'll be working with the MNIST digits recognition dataset, which has 10 classes, the digits 0 through 9! A reduced version of the MNIST dataset is one of scikit-learn's included datasets, and that is the one we will use in this exercise "
   ]
  },
  {
   "cell_type": "code",
   "execution_count": 104,
   "metadata": {},
   "outputs": [
    {
     "data": {
      "text/html": [
       "<script>\n",
       "code_show=true; \n",
       "function code_toggle() {\n",
       " if (code_show){\n",
       " $('div.input').hide();\n",
       " } else {\n",
       " $('div.input').show();\n",
       " }\n",
       " code_show = !code_show\n",
       "} \n",
       "$( document ).ready(code_toggle);\n",
       "</script>\n",
       "<form action=\"javascript:code_toggle()\"><input type=\"submit\" value=\"Click here to toggle on/off the raw code.\"></form>"
      ],
      "text/plain": [
       "<IPython.core.display.HTML object>"
      ]
     },
     "execution_count": 104,
     "metadata": {},
     "output_type": "execute_result"
    }
   ],
   "source": [
    "from IPython.display import HTML\n",
    "\n",
    "HTML('''<script>\n",
    "code_show=true; \n",
    "function code_toggle() {\n",
    " if (code_show){\n",
    " $('div.input').hide();\n",
    " } else {\n",
    " $('div.input').show();\n",
    " }\n",
    " code_show = !code_show\n",
    "} \n",
    "$( document ).ready(code_toggle);\n",
    "</script>\n",
    "<form action=\"javascript:code_toggle()\"><input type=\"submit\" value=\"Click here to toggle on/off the raw code.\"></form>''')"
   ]
  },
  {
   "cell_type": "markdown",
   "metadata": {},
   "source": [
    "<img src=\"https://cdn-images-1.medium.com/max/479/1*yBdJCRwIJGoM7pwU-LNW6Q.png\" width='50%' height='10%'>"
   ]
  },
  {
   "cell_type": "markdown",
   "metadata": {},
   "source": [
    "## Import the Libraries"
   ]
  },
  {
   "cell_type": "code",
   "execution_count": 81,
   "metadata": {
    "collapsed": true
   },
   "outputs": [],
   "source": [
    "## import the libraries..## impo \n",
    "import pandas as pd\n",
    "import matplotlib.pyplot as plt\n",
    "import numpy as np\n",
    "import seaborn as sns\n",
    "% matplotlib inline"
   ]
  },
  {
   "cell_type": "markdown",
   "metadata": {},
   "source": [
    "Create the Datatset: We use the MNIST dataset"
   ]
  },
  {
   "cell_type": "code",
   "execution_count": 5,
   "metadata": {},
   "outputs": [],
   "source": [
    "# import the MNIST dataset from sklearn.datasets.load_disgits \n",
    "from sklearn.datasets import load_digits"
   ]
  },
  {
   "cell_type": "markdown",
   "metadata": {},
   "source": [
    "Load the digits dataset using the .load_digits() method on datasets."
   ]
  },
  {
   "cell_type": "code",
   "execution_count": 6,
   "metadata": {
    "collapsed": true
   },
   "outputs": [],
   "source": [
    "## Store the dataset which is used further.## Stor \n",
    "digits=load_digits()"
   ]
  },
  {
   "cell_type": "markdown",
   "metadata": {},
   "source": [
    "By seeing the shape of dataset we can see there is 1797 differnet kind of handwriting digits are present with 64 features."
   ]
  },
  {
   "cell_type": "code",
   "execution_count": 7,
   "metadata": {},
   "outputs": [
    {
     "name": "stdout",
     "output_type": "stream",
     "text": [
      "(1797L, 64L)\n"
     ]
    }
   ],
   "source": [
    "# To check the shape of dataset use.shape()# To ch \n",
    "print(digits.data.shape)"
   ]
  },
  {
   "cell_type": "markdown",
   "metadata": {},
   "source": [
    "Each sample in this scikit-learn dataset is an 8x8 image representing a handwritten digit. Each pixel is represented by an integer in the range 0 to 16, indicating varying levels of black. "
   ]
  },
  {
   "cell_type": "markdown",
   "metadata": {},
   "source": [
    "#### each digits in the datasets are of 8x8 image"
   ]
  },
  {
   "cell_type": "code",
   "execution_count": 70,
   "metadata": {},
   "outputs": [
    {
     "data": {
      "text/plain": [
       "<matplotlib.figure.Figure at 0xda2aa90>"
      ]
     },
     "metadata": {},
     "output_type": "display_data"
    },
    {
     "data": {
      "image/png": "[encoded data removed]",
      "text/plain": [
       "<matplotlib.figure.Figure at 0xd532470>"
      ]
     },
     "metadata": {},
     "output_type": "display_data"
    },
    {
     "data": {
      "image/png": "[encoded data removed]",
      "text/plain": [
       "<matplotlib.figure.Figure at 0xda2afd0>"
      ]
     },
     "metadata": {},
     "output_type": "display_data"
    }
   ],
   "source": [
    "plt.gray() \n",
    "plt.matshow(digits.images[0]) \n",
    "plt.matshow(digits.images[2])\n",
    "plt.show() "
   ]
  },
  {
   "cell_type": "markdown",
   "metadata": {},
   "source": [
    "Print the keys "
   ]
  },
  {
   "cell_type": "code",
   "execution_count": 10,
   "metadata": {},
   "outputs": [
    {
     "name": "stdout",
     "output_type": "stream",
     "text": [
      "['images', 'data', 'target_names', 'DESCR', 'target']\n"
     ]
    }
   ],
   "source": [
    "print digits.keys()"
   ]
  },
  {
   "cell_type": "code",
   "execution_count": 11,
   "metadata": {
    "collapsed": true
   },
   "outputs": [],
   "source": [
    "# Strore the features of Mnist dataset into X\n",
    "X=np.array(digits.data)"
   ]
  },
  {
   "cell_type": "code",
   "execution_count": 12,
   "metadata": {
    "collapsed": true
   },
   "outputs": [],
   "source": [
    "# Store the target Mnist values into Y\n",
    "Y=np.array(digits.target)"
   ]
  },
  {
   "cell_type": "markdown",
   "metadata": {},
   "source": [
    "## Train_Test_split\n",
    "we are splitting dataset into training data and testing data. Training data is used for to train the model and then testing of model with test data.\n",
    "This train_test_split available in sklearn.cross_validation"
   ]
  },
  {
   "cell_type": "code",
   "execution_count": 49,
   "metadata": {},
   "outputs": [],
   "source": [
    "## To Split the dataset into training and testing sets import train_test_split\n",
    "\n",
    "from sklearn.cross_validation import train_test_split"
   ]
  },
  {
   "cell_type": "code",
   "execution_count": 50,
   "metadata": {
    "collapsed": true
   },
   "outputs": [],
   "source": [
    "# breaking dataset as train and test set\n",
    "x_train,x_test,y_train,y_test=train_test_split(X,Y,test_size=0.40,random_state=42)"
   ]
  },
  {
   "cell_type": "markdown",
   "metadata": {},
   "source": [
    "The C parameter tells the SVM optimization how much you want to avoid misclassifying each training example. For large values of C, the optimization will choose a smaller-margin hyperplane  if that hyperplane does a better job of getting all the training points classified correctly. Conversely, a very small value of C will cause the optimizer to look for a larger-margin separating hyperplane, "
   ]
  },
  {
   "cell_type": "code",
   "execution_count": 51,
   "metadata": {
    "collapsed": true
   },
   "outputs": [],
   "source": [
    "C = 1.0  # SVM regularization parameter"
   ]
  },
  {
   "cell_type": "markdown",
   "metadata": {},
   "source": [
    "## importing the Support vector machine from sklearn\n",
    "we will create different models (called kernels like linear,poly etc)."
   ]
  },
  {
   "cell_type": "code",
   "execution_count": 71,
   "metadata": {
    "collapsed": true
   },
   "outputs": [],
   "source": [
    "from sklearn import svm"
   ]
  },
  {
   "cell_type": "markdown",
   "metadata": {},
   "source": [
    "### Linear Kernel\n",
    "And we fit the model we train data"
   ]
  },
  {
   "cell_type": "code",
   "execution_count": 52,
   "metadata": {},
   "outputs": [],
   "source": [
    "# SVC with linear kernel\n",
    "svc_linear = svm.SVC(kernel='linear', C=C).fit(x_train, y_train)"
   ]
  },
  {
   "cell_type": "markdown",
   "metadata": {},
   "source": [
    " Predictions are made with x_test(feature) data."
   ]
  },
  {
   "cell_type": "code",
   "execution_count": 53,
   "metadata": {
    "collapsed": true
   },
   "outputs": [],
   "source": [
    "pred_linear=svc_linear.predict(x_test)"
   ]
  },
  {
   "cell_type": "markdown",
   "metadata": {},
   "source": [
    "### Accuracy"
   ]
  },
  {
   "cell_type": "code",
   "execution_count": 78,
   "metadata": {},
   "outputs": [
    {
     "name": "stdout",
     "output_type": "stream",
     "text": [
      "accuracy by linear kernel  0.98331015299\n"
     ]
    }
   ],
   "source": [
    "print \"accuracy by linear kernel \",svc_linear.score(x_test,y_test)"
   ]
  },
  {
   "cell_type": "markdown",
   "metadata": {},
   "source": [
    "### Confusion Matrix"
   ]
  },
  {
   "cell_type": "code",
   "execution_count": 83,
   "metadata": {
    "scrolled": true
   },
   "outputs": [
    {
     "name": "stdout",
     "output_type": "stream",
     "text": [
      "Confusion Matrix with linear kernel\n",
      "[[67  0  0  0  0  0  0  0  0  0]\n",
      " [ 0 71  0  0  1  0  0  0  0  0]\n",
      " [ 0  0 66  0  0  0  0  0  0  0]\n",
      " [ 0  0  0 69  0  1  0  0  1  0]\n",
      " [ 0  0  0  0 78  0  0  0  0  0]\n",
      " [ 0  0  0  0  0 81  0  1  0  1]\n",
      " [ 0  0  0  0  0  0 69  0  0  0]\n",
      " [ 0  0  0  0  0  0  0 70  0  1]\n",
      " [ 0  3  0  0  0  1  0  0 61  0]\n",
      " [ 0  0  0  1  1  0  0  0  0 75]]\n"
     ]
    }
   ],
   "source": [
    "print \"Confusion Matrix with linear kernel\"\n",
    "from sklearn.metrics import confusion_matrix\n",
    "linear_matrix=confusion_matrix(y_test,pred_linear)\n",
    "print linear_matrix"
   ]
  },
  {
   "cell_type": "markdown",
   "metadata": {},
   "source": [
    "### Classification Report"
   ]
  },
  {
   "cell_type": "code",
   "execution_count": 56,
   "metadata": {},
   "outputs": [
    {
     "name": "stdout",
     "output_type": "stream",
     "text": [
      "             precision    recall  f1-score   support\n",
      "\n",
      "          0       1.00      1.00      1.00        67\n",
      "          1       0.96      0.99      0.97        72\n",
      "          2       1.00      1.00      1.00        66\n",
      "          3       0.99      0.97      0.98        71\n",
      "          4       0.97      1.00      0.99        78\n",
      "          5       0.98      0.98      0.98        83\n",
      "          6       1.00      1.00      1.00        69\n",
      "          7       0.99      0.99      0.99        71\n",
      "          8       0.98      0.94      0.96        65\n",
      "          9       0.97      0.97      0.97        77\n",
      "\n",
      "avg / total       0.98      0.98      0.98       719\n",
      "\n"
     ]
    }
   ],
   "source": [
    "## classification report\n",
    "from sklearn.metrics import classification_report\n",
    "# target_names = ['class 0', 'class 1', 'class 2']\n",
    "print classification_report(y_test, pred_linear)"
   ]
  },
  {
   "cell_type": "code",
   "execution_count": 95,
   "metadata": {},
   "outputs": [
    {
     "data": {
      "text/plain": [
       "Text(0.5,1,u\"('Linear_SVM Accuracy_Score:', 0.98331015299026425)\")"
      ]
     },
     "execution_count": 95,
     "metadata": {},
     "output_type": "execute_result"
    },
    {
     "data": {
      "image/png": "[encoded data removed]",
      "text/plain": [
       "<matplotlib.figure.Figure at 0xe77d390>"
      ]
     },
     "metadata": {},
     "output_type": "display_data"
    }
   ],
   "source": [
    "plt.figure(figsize=(9,9))\n",
    "sns.heatmap(linear_matrix,annot=True,square=True,linewidths=.5,fmt=\".3f\")\n",
    "plt.ylabel(\"Actual label\")\n",
    "plt.xlabel(\"predicted label\")\n",
    "acc=\"Linear_SVM Accuracy_Score:\",svc_linear.score(x_test,y_test)\n",
    "plt.title(acc)\n"
   ]
  },
  {
   "cell_type": "markdown",
   "metadata": {},
   "source": [
    "## Poly kernel\n",
    "And we fit the model we train data"
   ]
  },
  {
   "cell_type": "code",
   "execution_count": 57,
   "metadata": {},
   "outputs": [],
   "source": [
    "# SVC with poly kernel\n",
    "svc_poly = svm.SVC(kernel='poly', C=C).fit(x_train, y_train)"
   ]
  },
  {
   "cell_type": "markdown",
   "metadata": {},
   "source": [
    " Predictions are made with x_test(feature) data."
   ]
  },
  {
   "cell_type": "code",
   "execution_count": 72,
   "metadata": {},
   "outputs": [],
   "source": [
    "pred_poly=svc_poly.predict(x_test)"
   ]
  },
  {
   "cell_type": "markdown",
   "metadata": {},
   "source": [
    "### Accuracy"
   ]
  },
  {
   "cell_type": "code",
   "execution_count": 77,
   "metadata": {},
   "outputs": [
    {
     "name": "stdout",
     "output_type": "stream",
     "text": [
      "accuracy by poly kernel  0.990264255911\n"
     ]
    }
   ],
   "source": [
    "print \"accuracy by poly kernel \",svc_poly.score(x_test,y_test)"
   ]
  },
  {
   "cell_type": "markdown",
   "metadata": {},
   "source": [
    "### Confusion Matrix"
   ]
  },
  {
   "cell_type": "code",
   "execution_count": 96,
   "metadata": {},
   "outputs": [
    {
     "name": "stdout",
     "output_type": "stream",
     "text": [
      "Confusion Matrix for poly kernel\n",
      "[[67  0  0  0  0  0  0  0  0  0]\n",
      " [ 0 72  0  0  0  0  0  0  0  0]\n",
      " [ 0  0 66  0  0  0  0  0  0  0]\n",
      " [ 0  0  0 69  0  1  0  0  1  0]\n",
      " [ 0  0  0  0 78  0  0  0  0  0]\n",
      " [ 0  0  0  0  0 82  0  0  0  1]\n",
      " [ 0  0  0  0  0  0 69  0  0  0]\n",
      " [ 0  0  0  0  0  0  0 70  0  1]\n",
      " [ 0  1  0  0  0  0  0  0 64  0]\n",
      " [ 0  0  0  1  0  0  0  1  0 75]]\n"
     ]
    }
   ],
   "source": [
    "print\"Confusion Matrix for poly kernel\"\n",
    "from sklearn.metrics import confusion_matrix\n",
    "poly_matrix=confusion_matrix(y_test,pred_poly)\n",
    "print poly_matrix"
   ]
  },
  {
   "cell_type": "code",
   "execution_count": 99,
   "metadata": {},
   "outputs": [
    {
     "data": {
      "text/plain": [
       "Text(0.5,1,u\"('poly_SVM Accuracy_Score:', 0.99026425591098743)\")"
      ]
     },
     "execution_count": 99,
     "metadata": {},
     "output_type": "execute_result"
    },
    {
     "data": {
      "image/png": "[encoded data removed]",
      "text/plain": [
       "<matplotlib.figure.Figure at 0xf94aba8>"
      ]
     },
     "metadata": {},
     "output_type": "display_data"
    }
   ],
   "source": [
    "plt.figure(figsize=(9,9))\n",
    "sns.heatmap(poly_matrix,annot=True,square=True,linewidths=.5,fmt=\".3f\")\n",
    "plt.ylabel(\"Actual label\")\n",
    "plt.xlabel(\"predicted label\")\n",
    "acc=\"poly_SVM Accuracy_Score:\",svc_poly.score(x_test,y_test)\n",
    "plt.title(acc)"
   ]
  },
  {
   "cell_type": "markdown",
   "metadata": {},
   "source": [
    "### Classification Report"
   ]
  },
  {
   "cell_type": "code",
   "execution_count": 60,
   "metadata": {},
   "outputs": [
    {
     "name": "stdout",
     "output_type": "stream",
     "text": [
      "             precision    recall  f1-score   support\n",
      "\n",
      "          0       1.00      1.00      1.00        67\n",
      "          1       0.99      1.00      0.99        72\n",
      "          2       1.00      1.00      1.00        66\n",
      "          3       0.99      0.97      0.98        71\n",
      "          4       1.00      1.00      1.00        78\n",
      "          5       0.99      0.99      0.99        83\n",
      "          6       1.00      1.00      1.00        69\n",
      "          7       0.99      0.99      0.99        71\n",
      "          8       0.98      0.98      0.98        65\n",
      "          9       0.97      0.97      0.97        77\n",
      "\n",
      "avg / total       0.99      0.99      0.99       719\n",
      "\n"
     ]
    }
   ],
   "source": [
    "## classification report\n",
    "from sklearn.metrics import classification_report\n",
    "# target_names = ['class 0', 'class 1', 'class 2']\n",
    "print classification_report(y_test, pred_poly)"
   ]
  },
  {
   "cell_type": "markdown",
   "metadata": {},
   "source": [
    "## Gaussain Kernel\n",
    "And we fit the model we train data"
   ]
  },
  {
   "cell_type": "code",
   "execution_count": 61,
   "metadata": {
    "collapsed": true
   },
   "outputs": [],
   "source": [
    "# SVC with gaussian kernel\n",
    "svc_rbf = svm.SVC(kernel='rbf', C=C).fit(x_train, y_train)"
   ]
  },
  {
   "cell_type": "markdown",
   "metadata": {},
   "source": [
    " Predictions are made with x_test(feature) data"
   ]
  },
  {
   "cell_type": "code",
   "execution_count": 74,
   "metadata": {},
   "outputs": [],
   "source": [
    "pred_rbf=svc_rbf.predict(x_test)"
   ]
  },
  {
   "cell_type": "markdown",
   "metadata": {},
   "source": [
    "### Accuracy"
   ]
  },
  {
   "cell_type": "code",
   "execution_count": 76,
   "metadata": {},
   "outputs": [
    {
     "name": "stdout",
     "output_type": "stream",
     "text": [
      "accuracy by gaussian kernel  0.46314325452\n"
     ]
    }
   ],
   "source": [
    "print \"accuracy by gaussian kernel \",svc_rbf.score(x_test,y_test)"
   ]
  },
  {
   "cell_type": "markdown",
   "metadata": {},
   "source": [
    "### Confusion Matrix"
   ]
  },
  {
   "cell_type": "code",
   "execution_count": 98,
   "metadata": {},
   "outputs": [
    {
     "name": "stdout",
     "output_type": "stream",
     "text": [
      "Confusion Matrix for rbf\n",
      "[[32  0  0 35  0  0  0  0  0  0]\n",
      " [ 0 33  0 39  0  0  0  0  0  0]\n",
      " [ 0  0 44 22  0  0  0  0  0  0]\n",
      " [ 0  0  0 71  0  0  0  0  0  0]\n",
      " [ 0  0  0 58 20  0  0  0  0  0]\n",
      " [ 0  0  0 83  0  0  0  0  0  0]\n",
      " [ 0  0  0 16  0  0 53  0  0  0]\n",
      " [ 0  0  0 32  0  0  0 39  0  0]\n",
      " [ 0  0  0 35  0  0  0  0 30  0]\n",
      " [ 0  0  0 66  0  0  0  0  0 11]]\n"
     ]
    }
   ],
   "source": [
    "print \"Confusion Matrix for rbf\"\n",
    "from sklearn.metrics import confusion_matrix\n",
    "rbf_matrix=confusion_matrix(y_test,pred_rbf)\n",
    "print rbf_matrix"
   ]
  },
  {
   "cell_type": "code",
   "execution_count": 100,
   "metadata": {},
   "outputs": [
    {
     "data": {
      "text/plain": [
       "Text(0.5,1,u\"('rbf_SVM Accuracy_Score:', 0.46314325452016691)\")"
      ]
     },
     "execution_count": 100,
     "metadata": {},
     "output_type": "execute_result"
    },
    {
     "data": {
      "image/png": "[encoded data removed]",
      "text/plain": [
       "<matplotlib.figure.Figure at 0x103a2358>"
      ]
     },
     "metadata": {},
     "output_type": "display_data"
    }
   ],
   "source": [
    "plt.figure(figsize=(9,9))\n",
    "sns.heatmap(rbf_matrix,annot=True,square=True,linewidths=.5,fmt=\".3f\")\n",
    "plt.ylabel(\"Actual label\")\n",
    "plt.xlabel(\"predicted label\")\n",
    "acc=\"rbf_SVM Accuracy_Score:\",svc_rbf.score(x_test,y_test)\n",
    "plt.title(acc)"
   ]
  },
  {
   "cell_type": "markdown",
   "metadata": {},
   "source": [
    "### Classification Report"
   ]
  },
  {
   "cell_type": "code",
   "execution_count": 110,
   "metadata": {},
   "outputs": [
    {
     "name": "stdout",
     "output_type": "stream",
     "text": [
      "             precision    recall  f1-score   support\n",
      "\n",
      "          0       1.00      0.48      0.65        67\n",
      "          1       1.00      0.46      0.63        72\n",
      "          2       1.00      0.67      0.80        66\n",
      "          3       0.16      1.00      0.27        71\n",
      "          4       1.00      0.26      0.41        78\n",
      "          5       0.00      0.00      0.00        83\n",
      "          6       1.00      0.77      0.87        69\n",
      "          7       1.00      0.55      0.71        71\n",
      "          8       1.00      0.46      0.63        65\n",
      "          9       1.00      0.14      0.25        77\n",
      "\n",
      "avg / total       0.80      0.46      0.50       719\n",
      "\n"
     ]
    }
   ],
   "source": [
    "## classification report\n",
    "from sklearn.metrics import classification_report\n",
    "# target_names = ['class 0', 'class 1', 'class 2']\n",
    "print classification_report(y_test, pred_rbf)"
   ]
  },
  {
   "cell_type": "markdown",
   "metadata": {},
   "source": [
    "## Sigmoid Kernel\n",
    "And we fit the model we train data"
   ]
  },
  {
   "cell_type": "code",
   "execution_count": 65,
   "metadata": {
    "collapsed": true
   },
   "outputs": [],
   "source": [
    "# SVC with sigmoid kernel\n",
    "svc_sigmoid = svm.SVC(kernel='sigmoid', C=C).fit(x_train, y_train)"
   ]
  },
  {
   "cell_type": "markdown",
   "metadata": {},
   "source": [
    " Predictions are made with x_test(feature) data"
   ]
  },
  {
   "cell_type": "code",
   "execution_count": 79,
   "metadata": {},
   "outputs": [],
   "source": [
    "pred_sigmoid=svc_sigmoid.predict(x_test)"
   ]
  },
  {
   "cell_type": "markdown",
   "metadata": {},
   "source": [
    "### Accuracy"
   ]
  },
  {
   "cell_type": "code",
   "execution_count": 80,
   "metadata": {},
   "outputs": [
    {
     "data": {
      "text/plain": [
       "0.097357440890125171"
      ]
     },
     "execution_count": 80,
     "metadata": {},
     "output_type": "execute_result"
    }
   ],
   "source": [
    "svc_sigmoid.score(x_test,y_test)"
   ]
  },
  {
   "cell_type": "markdown",
   "metadata": {},
   "source": [
    "### Confusion Matrix"
   ]
  },
  {
   "cell_type": "code",
   "execution_count": 102,
   "metadata": {},
   "outputs": [
    {
     "name": "stdout",
     "output_type": "stream",
     "text": [
      "Confusion Matrix for sigmoid kernel\n",
      "[[ 0  0  0  1  0  0 66  0  0  0]\n",
      " [ 0  0  0  0  0  0 72  0  0  0]\n",
      " [ 0  0  0  0  0  0 66  0  0  0]\n",
      " [ 0  0  0  1  0  0 70  0  0  0]\n",
      " [ 0  0  0  0  0  0 78  0  0  0]\n",
      " [ 0  0  0  0  0  0 83  0  0  0]\n",
      " [ 0  0  0  0  0  0 69  0  0  0]\n",
      " [ 0  0  0  2  0  0 69  0  0  0]\n",
      " [ 0  0  0  0  0  0 65  0  0  0]\n",
      " [ 0  0  0  0  0  0 77  0  0  0]]\n"
     ]
    }
   ],
   "source": [
    "print 'Confusion Matrix for sigmoid kernel'\n",
    "from sklearn.metrics import confusion_matrix\n",
    "sigmoid_matrix=confusion_matrix(y_test,pred_sigmoid)\n",
    "print sigmoid_matrix"
   ]
  },
  {
   "cell_type": "code",
   "execution_count": 103,
   "metadata": {},
   "outputs": [
    {
     "data": {
      "text/plain": [
       "Text(0.5,1,u\"('sigmoid_SVM Accuracy_Score:', 0.097357440890125171)\")"
      ]
     },
     "execution_count": 103,
     "metadata": {},
     "output_type": "execute_result"
    },
    {
     "data": {
      "image/png": "[encoded data removed]",
      "text/plain": [
       "<matplotlib.figure.Figure at 0x1057d9e8>"
      ]
     },
     "metadata": {},
     "output_type": "display_data"
    }
   ],
   "source": [
    "plt.figure(figsize=(9,9))\n",
    "sns.heatmap(sigmoid_matrix,annot=True,square=True,linewidths=.5,fmt=\".3f\")\n",
    "plt.ylabel(\"Actual label\")\n",
    "plt.xlabel(\"predicted label\")\n",
    "acc=\"sigmoid_SVM Accuracy_Score:\",svc_sigmoid.score(x_test,y_test)\n",
    "plt.title(acc)"
   ]
  },
  {
   "cell_type": "markdown",
   "metadata": {},
   "source": [
    "### Classification Report"
   ]
  },
  {
   "cell_type": "code",
   "execution_count": 68,
   "metadata": {},
   "outputs": [
    {
     "name": "stdout",
     "output_type": "stream",
     "text": [
      "             precision    recall  f1-score   support\n",
      "\n",
      "          0       1.00      0.48      0.65        67\n",
      "          1       1.00      0.46      0.63        72\n",
      "          2       1.00      0.67      0.80        66\n",
      "          3       0.16      1.00      0.27        71\n",
      "          4       1.00      0.26      0.41        78\n",
      "          5       0.00      0.00      0.00        83\n",
      "          6       1.00      0.77      0.87        69\n",
      "          7       1.00      0.55      0.71        71\n",
      "          8       1.00      0.46      0.63        65\n",
      "          9       1.00      0.14      0.25        77\n",
      "\n",
      "avg / total       0.80      0.46      0.50       719\n",
      "\n"
     ]
    }
   ],
   "source": [
    "## classification report\n",
    "from sklearn.metrics import classification_report\n",
    "# target_names = ['class 0', 'class 1', 'class 2']\n",
    "print classification_report(y_test, pred_rbf)"
   ]
  },
  {
   "cell_type": "markdown",
   "metadata": {},
   "source": [
    "## Summary\n",
    " we learned how to model the support vector machine classifier using different kernels like 'linear','poly','gaussian','sigmoid' .By modeling with different kernel we noticed that the gaussain and sigmoid kernel gives very low accuracy as compared to linear and poly kernels.As linear kernel gives accuracy 0.983 and where as by sigmoid we got 0.09 accuracy."
   ]
  },
  {
   "cell_type": "code",
   "execution_count": null,
   "metadata": {
    "collapsed": true
   },
   "outputs": [],
   "source": []
  }
 ],
 "metadata": {
  "kernelspec": {
   "display_name": "Python 2",
   "language": "python",
   "name": "python2"
  },
  "language_info": {
   "codemirror_mode": {
    "name": "ipython",
    "version": 2
   },
   "file_extension": ".py",
   "mimetype": "text/x-python",
   "name": "python",
   "nbconvert_exporter": "python",
   "pygments_lexer": "ipython2",
   "version": "2.7.14"
  }
 },
 "nbformat": 4,
 "nbformat_minor": 2
}
